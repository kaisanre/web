{
 "cells": [
  {
   "cell_type": "markdown",
   "metadata": {},
   "source": [
    "# Challenge - Pixel Artist\n",
    "\n",
    "You're a pixel artist 👩‍🎨. You have a collection of five 10x10-pixel images stored in a 5x3x10x10 array.\n",
    "\n",
    "The (i,j,k,l) element corresponds to the ith image, jth color channel (RGB), kth row of pixels, jth column of pixels.\n",
    "\n",
    "You want to plot these images, but your plotting software expects color channel to be the last dimension of the array. Rearrange your array accordingly."
   ]
  },
  {
   "cell_type": "code",
   "execution_count": 3,
   "metadata": {},
   "outputs": [],
   "source": [
    "import numpy as np\n",
    "\n",
    "rng = np.random.default_rng(1234)\n",
    "imgs = rng.uniform(low=0, high=1, size=(5,3,10,10))"
   ]
  },
  {
   "cell_type": "code",
   "execution_count": 10,
   "metadata": {},
   "outputs": [
    {
     "data": {
      "text/plain": [
       "(5, 10, 10, 3)"
      ]
     },
     "execution_count": 10,
     "metadata": {},
     "output_type": "execute_result"
    }
   ],
   "source": [
    "imgs = np.swapaxes(imgs, 1,3)\n",
    "imgs.shape"
   ]
  }
 ],
 "metadata": {
  "kernelspec": {
   "display_name": "venv",
   "language": "python",
   "name": "python3"
  },
  "language_info": {
   "codemirror_mode": {
    "name": "ipython",
    "version": 3
   },
   "file_extension": ".py",
   "mimetype": "text/x-python",
   "name": "python",
   "nbconvert_exporter": "python",
   "pygments_lexer": "ipython3",
   "version": "3.8.10"
  }
 },
 "nbformat": 4,
 "nbformat_minor": 2
}
