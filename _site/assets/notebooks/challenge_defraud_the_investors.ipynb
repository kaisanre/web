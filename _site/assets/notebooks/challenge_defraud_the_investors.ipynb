{
 "cells": [
  {
   "cell_type": "markdown",
   "metadata": {},
   "source": [
    "# Challenge - Defraud the Investors\n",
    "\n",
    "You've developed a model that predicts the probability a 🏠 house for sale can be flipped for a profit 💸. Your model isn't very good, as indicated by its predictions on historic data. \n",
    "\n",
    "Your investors want to see these results, but you're afraid to share them. You devise the following algorithm to make your predictions look better without looking artificial.\n",
    "\n",
    "```python\n",
    "Step 1: \n",
    "  Choose 5 random indexes (without replacement)\n",
    "\n",
    "Step 2: \n",
    "  Perfectly reorder the prediction scores at these indexes \n",
    "  to optimize the accuracy of these 5 predictions\n",
    "```\n",
    "\n",
    "\n",
    "\n",
    "For example\n",
    "\n",
    "If you had these prediction scores and truths\n",
    "\n",
    "```python\n",
    "indexes: [   0,     1,    2,     3,    4]\n",
    "scores:  [ 0.3,   0.8,  0.2,   0.6,  0.3]\n",
    "truths:  [True, False, True, False, True]\n",
    "```\n",
    "and you randomly selected indexes 1, 2, and 4, you would reorder their scores like this.\n",
    "\n",
    "```python\n",
    "indexes:    [   0,     1,    2,     3,    4]\n",
    "old_scores: [ 0.3,   0.8,  0.2,   0.6,  0.3]\n",
    "new_scores: [ 0.3,   0.2,  0.3,   0.6,  0.8]\n",
    "truths:     [True, False, True, False, True]\n",
    "```\n",
    "This boosts your accuracy rate from 0% to 20%.\n",
    "\n"
   ]
  },
  {
   "cell_type": "code",
   "execution_count": 22,
   "metadata": {},
   "outputs": [
    {
     "name": "stdout",
     "output_type": "stream",
     "text": [
      "[ True False False False False  True  True False  True  True False False\n",
      "  True False  True  True  True False  True False]\n",
      "[0.23 0.17 0.5  0.58 0.18 0.01 0.47 0.73 0.92 0.63 0.92 0.86 0.22 0.87\n",
      " 0.73 0.28 0.8  0.87 0.3  0.53]\n"
     ]
    }
   ],
   "source": [
    "import numpy as np\n",
    "\n",
    "rng = np.random.default_rng(123)\n",
    "targets = rng.uniform(low=0, high=1, size=20) >= 0.6\n",
    "preds = np.round(rng.uniform(low=0, high=1, size=20), 2)\n",
    "\n",
    "print(targets)\n",
    "print(preds)\n",
    "# [ True False False ... False True False]\n",
    "# [ 0.23  0.17  0.50 ...  0.87 0.30  0.53]"
   ]
  },
  {
   "cell_type": "code",
   "execution_count": 58,
   "metadata": {},
   "outputs": [
    {
     "data": {
      "text/plain": [
       "array([0.92, 0.47, 0.63, 0.3 , 0.53, 0.92, 0.47, 0.8 , 0.87, 0.87, 0.87,\n",
       "       0.87, 0.92, 0.3 , 0.92, 0.87, 0.8 , 0.87, 0.3 , 0.73])"
      ]
     },
     "execution_count": 58,
     "metadata": {},
     "output_type": "execute_result"
    }
   ],
   "source": [
    "indices = rng.choice(np.arange(0, preds.size), size=5, replace=False)\n",
    "index_ordered_preds = np.sort(preds[indices])\n",
    "truth_ordered_preds = np.argsort(targets)\n",
    "\n",
    "_, og_index, _ = np.intersect1d(truth_ordered_preds, indices, return_indices=True)\n",
    "preds[og_index] = index_ordered_preds\n",
    "preds"
   ]
  },
  {
   "cell_type": "code",
   "execution_count": 59,
   "metadata": {},
   "outputs": [
    {
     "data": {
      "text/plain": [
       "0.55"
      ]
     },
     "execution_count": 59,
     "metadata": {},
     "output_type": "execute_result"
    }
   ],
   "source": [
    "def accuracy_rate(preds, targets):\n",
    "    return np.mean((preds >= 0.5) == targets)\n",
    "\n",
    "# Accuracy before finagling\n",
    "accuracy_rate(preds, targets)  # 0.3"
   ]
  }
 ],
 "metadata": {
  "kernelspec": {
   "display_name": "venv",
   "language": "python",
   "name": "python3"
  },
  "language_info": {
   "codemirror_mode": {
    "name": "ipython",
    "version": 3
   },
   "file_extension": ".py",
   "mimetype": "text/x-python",
   "name": "python",
   "nbconvert_exporter": "python",
   "pygments_lexer": "ipython3",
   "version": "3.8.10"
  }
 },
 "nbformat": 4,
 "nbformat_minor": 2
}
