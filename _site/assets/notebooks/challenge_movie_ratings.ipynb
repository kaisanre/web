{
 "cells": [
  {
   "cell_type": "markdown",
   "metadata": {},
   "source": [
    "# Challenge - Movie Ratings\n",
    "\n",
    "You’re given a 10x2 array of floats where each row represents a movie. The first column represents the movie’s rating and the second column represents the director’s rating.\n",
    "\n",
    "Create a third column that represents the overall rating. The overall rating is equal to the movie rating if it exists, otherwise the director’s rating."
   ]
  },
  {
   "cell_type": "code",
   "execution_count": 1,
   "metadata": {},
   "outputs": [
    {
     "name": "stdout",
     "output_type": "stream",
     "text": [
      "[[ 7.  1.]\n",
      " [nan  2.]\n",
      " [nan  8.]\n",
      " [ 9.  3.]\n",
      " [ 8.  9.]\n",
      " [ 5.  2.]\n",
      " [ 8.  2.]\n",
      " [nan  6.]\n",
      " [ 9.  2.]\n",
      " [nan  5.]]\n"
     ]
    }
   ],
   "source": [
    "import numpy as np\n",
    "\n",
    "generator = np.random.default_rng(123)\n",
    "ratings = np.round(generator.uniform(low=0.0, high=10.0, size=(10, 2)))\n",
    "ratings[[1,2,7,9], [0,0,0,0]] = np.nan\n",
    "\n",
    "print(ratings)\n",
    "# [[ 7.  1.]\n",
    "#  [nan  2.]\n",
    "#  [nan  8.]\n",
    "#  [ 9.  3.]\n",
    "#  [ 8.  9.]\n",
    "#  [ 5.  2.]\n",
    "#  [ 8.  2.]\n",
    "#  [nan  6.]\n",
    "#  [ 9.  2.]\n",
    "#  [nan  5.]]"
   ]
  },
  {
   "cell_type": "code",
   "execution_count": 56,
   "metadata": {},
   "outputs": [
    {
     "data": {
      "text/plain": [
       "array([[ 7.,  1.,  7.],\n",
       "       [nan,  2.,  2.],\n",
       "       [nan,  8.,  8.],\n",
       "       [ 9.,  3.,  9.],\n",
       "       [ 8.,  9.,  8.],\n",
       "       [ 5.,  2.,  5.],\n",
       "       [ 8.,  2.,  8.],\n",
       "       [nan,  6.,  6.],\n",
       "       [ 9.,  2.,  9.],\n",
       "       [nan,  5.,  5.]])"
      ]
     },
     "execution_count": 56,
     "metadata": {},
     "output_type": "execute_result"
    }
   ],
   "source": [
    "nan_cols = np.isnan(ratings[:, 0])\n",
    "final_ratings = np.zeros(ratings.shape[0])\n",
    "final_ratings[nan_cols] = ratings[:, 1][nan_cols]\n",
    "final_ratings[~nan_cols] = ratings[:, 0][~nan_cols]\n",
    "np.concatenate((ratings, np.array([final_ratings]).T), axis=-1)"
   ]
  },
  {
   "cell_type": "code",
   "execution_count": null,
   "metadata": {},
   "outputs": [],
   "source": []
  }
 ],
 "metadata": {
  "kernelspec": {
   "display_name": "venv",
   "language": "python",
   "name": "python3"
  },
  "language_info": {
   "codemirror_mode": {
    "name": "ipython",
    "version": 3
   },
   "file_extension": ".py",
   "mimetype": "text/x-python",
   "name": "python",
   "nbconvert_exporter": "python",
   "pygments_lexer": "ipython3",
   "version": "3.8.10"
  }
 },
 "nbformat": 4,
 "nbformat_minor": 2
}
