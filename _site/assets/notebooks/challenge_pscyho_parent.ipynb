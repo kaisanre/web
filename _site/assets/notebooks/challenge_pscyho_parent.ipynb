{
 "cells": [
  {
   "cell_type": "markdown",
   "metadata": {},
   "source": [
    "# Challenge - Psycho Parent\n",
    "\n",
    "Eager to make your mark on the PTA, you decide the best way to hide eggs for the upcoming Easter egg hunt is to use NumPy. You represent the field as a 10x10 array of 0s."
   ]
  },
  {
   "cell_type": "code",
   "execution_count": 76,
   "metadata": {},
   "outputs": [
    {
     "name": "stdout",
     "output_type": "stream",
     "text": [
      "[[0. 0. 0. 0. 0. 0. 0. 0. 0. 0.]\n",
      " [0. 0. 0. 0. 0. 0. 0. 0. 0. 0.]\n",
      " [0. 0. 0. 0. 0. 0. 0. 0. 0. 0.]\n",
      " [0. 0. 0. 0. 0. 0. 0. 0. 0. 0.]\n",
      " [0. 0. 0. 0. 0. 0. 0. 0. 0. 0.]\n",
      " [0. 0. 0. 0. 0. 0. 0. 0. 0. 0.]\n",
      " [0. 0. 0. 0. 0. 0. 0. 0. 0. 0.]\n",
      " [0. 0. 0. 0. 0. 0. 0. 0. 0. 0.]\n",
      " [0. 0. 0. 0. 0. 0. 0. 0. 0. 0.]\n",
      " [0. 0. 0. 0. 0. 0. 0. 0. 0. 0.]]\n"
     ]
    }
   ],
   "source": [
    "import numpy as np\n",
    "\n",
    "field = np.zeros(shape = (10, 10))\n",
    "\n",
    "print(field)\n",
    "# [[0. 0. 0. 0. 0. 0. 0. 0. 0. 0.]\n",
    "#  [0. 0. 0. 0. 0. 0. 0. 0. 0. 0.]\n",
    "#  [0. 0. 0. 0. 0. 0. 0. 0. 0. 0.]\n",
    "#  [0. 0. 0. 0. 0. 0. 0. 0. 0. 0.]\n",
    "#  [0. 0. 0. 0. 0. 0. 0. 0. 0. 0.]\n",
    "#  [0. 0. 0. 0. 0. 0. 0. 0. 0. 0.]\n",
    "#  [0. 0. 0. 0. 0. 0. 0. 0. 0. 0.]\n",
    "#  [0. 0. 0. 0. 0. 0. 0. 0. 0. 0.]\n",
    "#  [0. 0. 0. 0. 0. 0. 0. 0. 0. 0.]\n",
    "#  [0. 0. 0. 0. 0. 0. 0. 0. 0. 0.]]"
   ]
  },
  {
   "cell_type": "code",
   "execution_count": 85,
   "metadata": {},
   "outputs": [
    {
     "data": {
      "text/plain": [
       "array([[12.,  7.,  0.,  0.,  0.,  0.,  0., 14.,  0.,  0.],\n",
       "       [ 0.,  0.,  0., 13.,  0.,  0.,  8.,  0.,  8.,  0.],\n",
       "       [ 7.,  0.,  0.,  0., 11.,  0.,  0.,  0.,  0.,  0.],\n",
       "       [ 0.,  0., 11.,  0.,  0.,  0.,  0., 10.,  0.,  0.],\n",
       "       [ 0.,  0.,  9.,  0.,  5.,  0.,  0.,  0.,  0.,  0.],\n",
       "       [ 0., 10.,  0.,  0.,  0.,  0.,  0.,  0.,  0.,  0.],\n",
       "       [ 0.,  0., 11.,  0., 13.,  0.,  0.,  0.,  0., 10.],\n",
       "       [ 0.,  0.,  0.,  0.,  0.,  0.,  0.,  0.,  0.,  0.],\n",
       "       [ 0.,  0.,  0.,  0.,  0.,  0.,  0.,  0.,  0.,  0.],\n",
       "       [ 9.,  8.,  9.,  0.,  0.,  0.,  0.,  0., 13.,  0.]])"
      ]
     },
     "execution_count": 85,
     "metadata": {},
     "output_type": "execute_result"
    }
   ],
   "source": [
    "import sys\n",
    "np.set_printoptions(linewidth=999)\n",
    "np.set_printoptions(threshold=sys.maxsize)\n",
    "\n",
    "generator = np.random.default_rng(seed=123)\n",
    "random_integers = generator.normal(loc=10, scale=3, size=20).astype(int)\n",
    "\n",
    "flat_indices = generator.choice(field.shape[0]*field.shape[1], size=20, replace=False)\n",
    "coords = np.unravel_index(flat_indices, field.shape)\n",
    "coords = np.transpose(coords)\n",
    "field[coords[:,0], coords[:, 1]] = random_integers\n",
    "field\n"
   ]
  }
 ],
 "metadata": {
  "kernelspec": {
   "display_name": "venv",
   "language": "python",
   "name": "python3"
  },
  "language_info": {
   "codemirror_mode": {
    "name": "ipython",
    "version": 3
   },
   "file_extension": ".py",
   "mimetype": "text/x-python",
   "name": "python",
   "nbconvert_exporter": "python",
   "pygments_lexer": "ipython3",
   "version": "3.8.10"
  }
 },
 "nbformat": 4,
 "nbformat_minor": 2
}
