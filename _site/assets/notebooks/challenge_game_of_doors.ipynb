{
 "cells": [
  {
   "cell_type": "markdown",
   "metadata": {},
   "source": [
    "# Challenge - Game of Doors\n",
    "\n",
    "You’re preparing for a game show where you play the following game.\n",
    "\n",
    "You’re faced with four doors\n",
    "\n",
    "\n",
    "Behind one door is cash money 🤑\n",
    "Behind the other three doors is steaming pile of broccoli 🥦\n",
    "\n",
    "If you pick the door with money, you get the option to play again at the risk of losing the money you’ve collected thus far. If you keep winning, you can play a maximum of three rounds before the game show host kicks you off his show.\n",
    "\n",
    "You have some strategy ideas you’d like to evaluate before you go on the show. You hire an unpaid intern to scour through historic recordings of the show and log data on where prizes were located and the value of each prize.\n",
    "\n",
    "Your intern gets back to you with the following matrices:\n",
    "\n",
    "`prize_doors`: Here, element (i,j) identifies the door hiding the prize in the ith game of round j\n",
    "\n",
    "`prizes`: Here (i, j) gives the prize amount in the ith game of round j\n",
    "\n",
    "\n",
    "Build a 5x3x4 matrix where (i,j,k) represents the prize behind door k of round j of game i."
   ]
  },
  {
   "cell_type": "code",
   "execution_count": 3,
   "metadata": {},
   "outputs": [],
   "source": [
    "import numpy as np\n",
    "\n",
    "prize_doors = np.array([\n",
    "    [1, 0, 2],\n",
    "    [0, 0, 1],\n",
    "    [3, 3, 1],\n",
    "    [1, 2, 0],\n",
    "    [2, 1, 1]\n",
    "])\n",
    "\n",
    "prizes = np.array([\n",
    "    [100, 150, 500],\n",
    "    [200, 300, 250],\n",
    "    [150, 100, 325],\n",
    "    [425, 200, 100],\n",
    "    [200, 250, 300]\n",
    "])"
   ]
  },
  {
   "cell_type": "code",
   "execution_count": 4,
   "metadata": {},
   "outputs": [
    {
     "data": {
      "text/plain": [
       "array([[[  0., 100.,   0.,   0.],\n",
       "        [150.,   0.,   0.,   0.],\n",
       "        [  0.,   0., 500.,   0.]],\n",
       "\n",
       "       [[200.,   0.,   0.,   0.],\n",
       "        [300.,   0.,   0.,   0.],\n",
       "        [  0., 250.,   0.,   0.]],\n",
       "\n",
       "       [[  0.,   0.,   0., 150.],\n",
       "        [  0.,   0.,   0., 100.],\n",
       "        [  0., 325.,   0.,   0.]],\n",
       "\n",
       "       [[  0., 425.,   0.,   0.],\n",
       "        [  0.,   0., 200.,   0.],\n",
       "        [100.,   0.,   0.,   0.]],\n",
       "\n",
       "       [[  0.,   0., 200.,   0.],\n",
       "        [  0., 250.,   0.,   0.],\n",
       "        [  0., 300.,   0.,   0.]]])"
      ]
     },
     "execution_count": 4,
     "metadata": {},
     "output_type": "execute_result"
    }
   ],
   "source": [
    "result = np.zeros((5,3,4))\n",
    "result[np.arange(5)[:, None], np.arange(3)[None, :], prize_doors] = prizes\n",
    "result"
   ]
  }
 ],
 "metadata": {
  "kernelspec": {
   "display_name": "venv",
   "language": "python",
   "name": "python3"
  },
  "language_info": {
   "codemirror_mode": {
    "name": "ipython",
    "version": 3
   },
   "file_extension": ".py",
   "mimetype": "text/x-python",
   "name": "python",
   "nbconvert_exporter": "python",
   "pygments_lexer": "ipython3",
   "version": "3.8.10"
  }
 },
 "nbformat": 4,
 "nbformat_minor": 2
}
