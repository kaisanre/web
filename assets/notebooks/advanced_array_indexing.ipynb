{
 "cells": [
  {
   "cell_type": "markdown",
   "metadata": {},
   "source": [
    "# Advanced Array Indexing"
   ]
  },
  {
   "cell_type": "code",
   "execution_count": 1,
   "metadata": {},
   "outputs": [
    {
     "name": "stdout",
     "output_type": "stream",
     "text": [
      "Requirement already satisfied: numpy in /home/samrat/Documents/numpy-torch-tutorials/venv/lib/python3.8/site-packages (1.24.4)\n",
      "Note: you may need to restart the kernel to use updated packages.\n"
     ]
    }
   ],
   "source": [
    "%pip install numpy\n",
    "import numpy as np"
   ]
  },
  {
   "cell_type": "code",
   "execution_count": 4,
   "metadata": {},
   "outputs": [
    {
     "name": "stdout",
     "output_type": "stream",
     "text": [
      "[[ 0  4]\n",
      " [ 8 12]\n",
      " [16 20]]\n",
      "[[[ 0  1]\n",
      "  [ 4  5]]\n",
      "\n",
      " [[ 8  9]\n",
      "  [12 13]]\n",
      "\n",
      " [[16 17]\n",
      "  [20 21]]]\n"
     ]
    }
   ],
   "source": [
    "foo = np.arange(3*2*4).reshape((3,2,4))\n",
    "print(foo[:, :, 0])\n",
    "print(foo[:, :, [0,1]])"
   ]
  },
  {
   "cell_type": "code",
   "execution_count": 5,
   "metadata": {},
   "outputs": [
    {
     "data": {
      "text/plain": [
       "array([[[ 0,  4],\n",
       "        [ 0,  4],\n",
       "        [16, 20],\n",
       "        [16, 20]],\n",
       "\n",
       "       [[ 1,  5],\n",
       "        [ 1,  5],\n",
       "        [17, 21],\n",
       "        [17, 21]],\n",
       "\n",
       "       [[ 2,  6],\n",
       "        [ 2,  6],\n",
       "        [18, 22],\n",
       "        [18, 22]]])"
      ]
     },
     "execution_count": 5,
     "metadata": {},
     "output_type": "execute_result"
    }
   ],
   "source": [
    "foo[[0,0,2,2], :, [[0], [1], [2]]]"
   ]
  }
 ],
 "metadata": {
  "kernelspec": {
   "display_name": "venv",
   "language": "python",
   "name": "python3"
  },
  "language_info": {
   "codemirror_mode": {
    "name": "ipython",
    "version": 3
   },
   "file_extension": ".py",
   "mimetype": "text/x-python",
   "name": "python",
   "nbconvert_exporter": "python",
   "pygments_lexer": "ipython3",
   "version": "3.8.10"
  }
 },
 "nbformat": 4,
 "nbformat_minor": 2
}
