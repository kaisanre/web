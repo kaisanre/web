{
 "cells": [
  {
   "cell_type": "markdown",
   "metadata": {},
   "source": [
    "# Challenge - Taco Truck\n",
    "\n",
    "You own a taco truck that’s open 24/7 and manage five employees who run it. Employees work solo, eight-hour shifts. You decide the best way to set their schedule for the upcoming week is to create a bunch of random schedules and select one that looks best.\n",
    "\n",
    "You build a 1000x21 array of random employee ids where element (i,j) gives the employee id working shift j for schedule i.\n",
    "\n",
    "A Schedule is valid as long as no employee works two consecutive shifts. Get the row indices of all valid schedules."
   ]
  },
  {
   "cell_type": "code",
   "execution_count": 1,
   "metadata": {},
   "outputs": [
    {
     "name": "stdout",
     "output_type": "stream",
     "text": [
      "[[4 3 0 ... 2 0 0]\n",
      " [2 4 3 ... 3 3 2]\n",
      " [1 0 1 ... 1 2 1]\n",
      " ...\n",
      " [2 2 1 ... 3 1 4]\n",
      " [1 0 3 ... 2 3 2]\n",
      " [1 1 4 ... 2 4 2]]\n"
     ]
    }
   ],
   "source": [
    "import numpy as np\n",
    "\n",
    "generator = np.random.default_rng(999)\n",
    "schedules = generator.integers(low=0, high=5, size=(1000, 21))\n",
    "\n",
    "print(schedules)\n",
    "# [[4 3 0 ... 2 0 0]\n",
    "#  [2 4 3 ... 3 3 2]\n",
    "#  [1 0 1 ... 1 2 1]\n",
    "#  ...\n",
    "#  [2 2 1 ... 3 1 4]\n",
    "#  [1 0 3 ... 2 3 2]\n",
    "#  [1 1 4 ... 2 4 2]]"
   ]
  },
  {
   "cell_type": "code",
   "execution_count": 94,
   "metadata": {},
   "outputs": [
    {
     "data": {
      "text/plain": [
       "(array([ 25, 138, 188, 289, 375, 426, 533, 886, 975, 982]),)"
      ]
     },
     "execution_count": 94,
     "metadata": {},
     "output_type": "execute_result"
    }
   ],
   "source": [
    "employees = np.unique(schedules)\n",
    "argsorted_schedules = np.argsort(schedules, axis=1) \n",
    "sorted_schedules = np.sort(schedules, axis=1)\n",
    "is_diff = np.full((1000), False)\n",
    "\n",
    "for employee in employees:\n",
    "    selected_employee = sorted_schedules == employee\n",
    "    argsorted_schedules_copy = argsorted_schedules.copy()\n",
    "    argsorted_schedules_copy.ravel()[(~selected_employee).ravel()] = -100\n",
    "    argsorted_schedules_copy = np.sort(argsorted_schedules_copy)\n",
    "    differences = np.any(np.diff(argsorted_schedules_copy, axis=1) == 1, axis=1)\n",
    "    is_diff = np.logical_or(is_diff, differences)\n",
    "\n",
    "np.where(~is_diff)\n"
   ]
  },
  {
   "cell_type": "code",
   "execution_count": 77,
   "metadata": {},
   "outputs": [
    {
     "data": {
      "text/plain": [
       "(array([ 25, 138, 188, 289, 375, 426, 533, 886, 975, 982]),)"
      ]
     },
     "execution_count": 77,
     "metadata": {},
     "output_type": "execute_result"
    }
   ],
   "source": [
    "is_valid = np.all(schedules[:, :-1] != schedules[:, 1:], axis=1)\n",
    "np.nonzero(is_valid)"
   ]
  }
 ],
 "metadata": {
  "kernelspec": {
   "display_name": "venv",
   "language": "python",
   "name": "python3"
  },
  "language_info": {
   "codemirror_mode": {
    "name": "ipython",
    "version": 3
   },
   "file_extension": ".py",
   "mimetype": "text/x-python",
   "name": "python",
   "nbconvert_exporter": "python",
   "pygments_lexer": "ipython3",
   "version": "3.8.10"
  }
 },
 "nbformat": 4,
 "nbformat_minor": 2
}
