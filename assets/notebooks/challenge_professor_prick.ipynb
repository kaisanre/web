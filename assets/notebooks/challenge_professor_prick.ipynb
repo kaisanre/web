{
 "cells": [
  {
   "cell_type": "markdown",
   "metadata": {},
   "source": [
    "# Challenge - Professor Prick\n",
    "\n",
    "You’re a vindictive professor 👨‍🏫 and one of your pet peeves is when students rush through their exams. To teach them a lesson, you decide to give zeros to the first three students who score less than sixty, in the order they turned in their exams.\n",
    "\n",
    "Given a 1-d array of integers, identify the first three values less than sixty and replace them with zero."
   ]
  },
  {
   "cell_type": "code",
   "execution_count": 1,
   "metadata": {},
   "outputs": [
    {
     "name": "stdout",
     "output_type": "stream",
     "text": [
      "[68. 36. 76. 57. 56. 54. 63. 64. 36. 88. 80. 82. 84. 76. 42.]\n"
     ]
    }
   ],
   "source": [
    "import numpy as np\n",
    "\n",
    "generator = np.random.default_rng(80085)\n",
    "scores = np.round(generator.uniform(low=30, high=100, size=15))\n",
    "\n",
    "print(scores)\n",
    "# [68. 36. 76. 57. 56. 54. 63. 64. 36. 88. 80. 82. 84. 76. 42.]"
   ]
  },
  {
   "cell_type": "code",
   "execution_count": 7,
   "metadata": {},
   "outputs": [
    {
     "data": {
      "text/plain": [
       "array([68.,  0., 76.,  0.,  0., 54., 63., 64., 36., 88., 80., 82., 84.,\n",
       "       76., 42.])"
      ]
     },
     "execution_count": 7,
     "metadata": {},
     "output_type": "execute_result"
    }
   ],
   "source": [
    "less_than_60 = scores < 60\n",
    "scores[less_than_60.nonzero()[0][:3]] = 0 \n",
    "scores\n"
   ]
  }
 ],
 "metadata": {
  "kernelspec": {
   "display_name": "venv",
   "language": "python",
   "name": "python3"
  },
  "language_info": {
   "codemirror_mode": {
    "name": "ipython",
    "version": 3
   },
   "file_extension": ".py",
   "mimetype": "text/x-python",
   "name": "python",
   "nbconvert_exporter": "python",
   "pygments_lexer": "ipython3",
   "version": "3.8.10"
  }
 },
 "nbformat": 4,
 "nbformat_minor": 2
}
