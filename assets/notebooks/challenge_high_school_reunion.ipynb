{
 "cells": [
  {
   "cell_type": "markdown",
   "metadata": {},
   "source": [
    "# Challenge - High School Reunion\n",
    "\n",
    "With your high school reunion fast approaching, you decide to get in shape and lose some weight. You record your weight every day for five weeks starting on a Monday."
   ]
  },
  {
   "cell_type": "code",
   "execution_count": 1,
   "metadata": {},
   "outputs": [
    {
     "name": "stdout",
     "output_type": "stream",
     "text": [
      "Requirement already satisfied: numpy in /home/samrat/Documents/numpy-torch-tutorials/venv/lib/python3.8/site-packages (1.24.4)\n",
      "Note: you may need to restart the kernel to use updated packages.\n",
      "[185.  184.8 184.6 184.4 184.2 184.  183.8 183.6 183.4 183.2 183.  182.8\n",
      " 182.6 182.4 182.2 182.  181.8 181.6 181.4 181.2 181.  180.8 180.6 180.4\n",
      " 180.2 180.  179.8 179.6 179.4 179.2 179.  178.8 178.6 178.4 178.2]\n"
     ]
    }
   ],
   "source": [
    "\n",
    "%pip install numpy\n",
    "import numpy as np\n",
    "\n",
    "dailywts = 185 - np.arange(5*7)/5\n",
    "\n",
    "print(dailywts)\n"
   ]
  },
  {
   "cell_type": "code",
   "execution_count": 3,
   "metadata": {},
   "outputs": [
    {
     "data": {
      "text/plain": [
       "array([[185. , 184.8, 184.6, 184.4, 184.2, 184. , 183.8],\n",
       "       [183.6, 183.4, 183.2, 183. , 182.8, 182.6, 182.4],\n",
       "       [182.2, 182. , 181.8, 181.6, 181.4, 181.2, 181. ],\n",
       "       [180.8, 180.6, 180.4, 180.2, 180. , 179.8, 179.6],\n",
       "       [179.4, 179.2, 179. , 178.8, 178.6, 178.4, 178.2]])"
      ]
     },
     "execution_count": 3,
     "metadata": {},
     "output_type": "execute_result"
    }
   ],
   "source": [
    "dailywts = dailywts.reshape((5, 7))\n",
    "dailywts"
   ]
  },
  {
   "cell_type": "code",
   "execution_count": 12,
   "metadata": {},
   "outputs": [
    {
     "data": {
      "text/plain": [
       "array([183.9, 182.5, 181.1, 179.7, 178.3])"
      ]
     },
     "execution_count": 12,
     "metadata": {},
     "output_type": "execute_result"
    }
   ],
   "source": [
    "averages = np.mean(dailywts[:, -2:], axis=1)\n",
    "averages"
   ]
  }
 ],
 "metadata": {
  "kernelspec": {
   "display_name": "venv",
   "language": "python",
   "name": "python3"
  },
  "language_info": {
   "codemirror_mode": {
    "name": "ipython",
    "version": 3
   },
   "file_extension": ".py",
   "mimetype": "text/x-python",
   "name": "python",
   "nbconvert_exporter": "python",
   "pygments_lexer": "ipython3",
   "version": "3.8.10"
  }
 },
 "nbformat": 4,
 "nbformat_minor": 2
}
