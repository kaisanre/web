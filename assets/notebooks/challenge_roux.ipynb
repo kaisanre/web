{
 "cells": [
  {
   "cell_type": "markdown",
   "metadata": {},
   "source": [
    "# Challenge - Roux\n",
    "\n",
    "Define a roux array as a 1-D array such that, when it's reversed, it represents the sequence of square numbers 1, 4, 9, 16, ... with 0s interwoven between them.\n",
    "\n",
    "```python\n",
    "# roux array of length 5\n",
    "[9 0 4 0 1]\n",
    "\n",
    "# roux array of length 8\n",
    "[ 0 16  0  9  0  4  0  1]\n",
    "\n",
    "# roux array of length 12\n",
    "[ 0 36  0 25  0 16  0  9  0  4  0  1]\n",
    "```\n",
    "\n",
    "Implement a function called `make_roux(n)` that inputs n, the desired size of the array, and outputs the corresponding roux array. Then test it on the examples above.\n"
   ]
  },
  {
   "cell_type": "code",
   "execution_count": 1,
   "metadata": {},
   "outputs": [
    {
     "name": "stdout",
     "output_type": "stream",
     "text": [
      "Requirement already satisfied: numpy in /home/samrat/Documents/numpy-torch-tutorials/venv/lib/python3.8/site-packages (1.24.4)\n",
      "Note: you may need to restart the kernel to use updated packages.\n"
     ]
    }
   ],
   "source": [
    "%pip install numpy\n",
    "import numpy as np"
   ]
  },
  {
   "cell_type": "code",
   "execution_count": 29,
   "metadata": {},
   "outputs": [],
   "source": [
    "def make_roux(n):\n",
    "    res = np.zeros(n, dtype='int64')\n",
    "    sequential = np.arange(start=1, stop=((n + 1)//2 + 1), dtype='int64')\n",
    "    sequential_square = np.flip(sequential * sequential)\n",
    "    res[(n%2 + 1)%2::2] = sequential_square\n",
    "    return res"
   ]
  },
  {
   "cell_type": "code",
   "execution_count": 36,
   "metadata": {},
   "outputs": [
    {
     "name": "stdout",
     "output_type": "stream",
     "text": [
      "[9 0 4 0 1]\n",
      "[ 0 16  0  9  0  4  0  1]\n",
      "[ 0 36  0 25  0 16  0  9  0  4  0  1]\n"
     ]
    }
   ],
   "source": [
    "print(make_roux(5))\n",
    "print(make_roux(8))\n",
    "print(make_roux(12))"
   ]
  }
 ],
 "metadata": {
  "kernelspec": {
   "display_name": "venv",
   "language": "python",
   "name": "python3"
  },
  "language_info": {
   "codemirror_mode": {
    "name": "ipython",
    "version": 3
   },
   "file_extension": ".py",
   "mimetype": "text/x-python",
   "name": "python",
   "nbconvert_exporter": "python",
   "pygments_lexer": "ipython3",
   "version": "3.8.10"
  }
 },
 "nbformat": 4,
 "nbformat_minor": 2
}
